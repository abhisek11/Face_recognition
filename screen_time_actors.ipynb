{
  "nbformat": 4,
  "nbformat_minor": 0,
  "metadata": {
    "colab": {
      "name": "screen_time_actors.ipynb",
      "version": "0.3.2",
      "provenance": [],
      "include_colab_link": true
    },
    "kernelspec": {
      "name": "python3",
      "display_name": "Python 3"
    }
  },
  "cells": [
    {
      "cell_type": "markdown",
      "metadata": {
        "id": "view-in-github",
        "colab_type": "text"
      },
      "source": [
        "[View in Colaboratory](https://colab.research.google.com/github/abhisek11/Face_recognition/blob/master/screen_time_actors.ipynb)"
      ]
    },
    {
      "metadata": {
        "id": "k_NmdbLw3LUf",
        "colab_type": "code",
        "colab": {}
      },
      "cell_type": "code",
      "source": [
        "import cv2 # for capturing videos\n",
        "import math # for mathematical operations\n",
        "import matplotlib.pyplot as plt   # for plotting the images\n",
        "%matplotlib inline \n",
        "import pandas as pd \n",
        "from keras.preprocessing import image  # for preprocessing the images\n",
        "import numpy as np # for mathematical operations\n",
        "from keras.utils import np_utils\n",
        "from skimage.transform import resize # for resizing images"
      ],
      "execution_count": 0,
      "outputs": []
    },
    {
      "metadata": {
        "id": "xR7yfVzA41_B",
        "colab_type": "code",
        "colab": {}
      },
      "cell_type": "code",
      "source": [
        "count = 0\n",
        "videofile = \"My Drive/Tom and jerry.mp4\"\n",
        "cap = cv2.VideoCapture(videofile)  # capturing the video from the given path\n",
        "framerate = cap.get(5)    #frame rate\n",
        "x=1\n",
        "while(cap)"
      ],
      "execution_count": 0,
      "outputs": []
    },
    {
      "metadata": {
        "id": "V4rpuMR36b72",
        "colab_type": "code",
        "colab": {}
      },
      "cell_type": "code",
      "source": [
        ""
      ],
      "execution_count": 0,
      "outputs": []
    }
  ]
}